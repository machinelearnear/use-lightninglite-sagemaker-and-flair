{
 "cells": [
  {
   "cell_type": "markdown",
   "metadata": {},
   "source": [
    "# Huggingface Sagemaker-sdk - Distributed Training Demo\n",
    "### Distributed Token Classification (NER) with `transformers` scripts +  `Trainer` and `conll2003` dataset"
   ]
  },
  {
   "cell_type": "markdown",
   "metadata": {},
   "source": [
    "- Source: https://github.com/huggingface/transformers/tree/v4.17.0/examples/pytorch/token-classification"
   ]
  },
  {
   "cell_type": "markdown",
   "metadata": {},
   "source": [
    "1. [Introduction](#Introduction)  \n",
    "2. [Development Environment and Permissions](#Development-Environment-and-Permissions)\n",
    "    1. [Installation](#Installation)  \n",
    "    2. [Development environment](#Development-environment)  \n",
    "    3. [Permissions](#Permissions) \n",
    "4. [Fine-tuning & starting Sagemaker Training Job](#Fine-tuning-\\&-starting-Sagemaker-Training-Job)  \n",
    "    1. [Creating an Estimator and start a training job](#Creating-an-Estimator-and-start-a-training-job)  \n",
    "    2. [Estimator Parameters](#Estimator-Parameters)   \n",
    "    3. [Download fine-tuned model from s3](#Download-fine-tuned-model-from-s3)\n",
    "    3. [Attach to old training job to an estimator ](#Attach-to-old-training-job-to-an-estimator)  \n",
    "5. [_Coming soon_:Push model to the Hugging Face hub](#Push-model-to-the-Hugging-Face-hub)"
   ]
  },
  {
   "cell_type": "markdown",
   "metadata": {},
   "source": [
    "# Introduction\n",
    "\n",
    "Welcome to our end-to-end `distributed` \"Token Classification\" (NER) example. In this demo, we will use the Hugging Face `transformers` together with a custom Amazon sagemaker-sdk extension to fine-tune a pre-trained transformer for token-classification on multiple-gpus. In particular, the pre-trained model will be fine-tuned using the `conll2003` dataset. The demo will use the new `smdistributed` library to run training on multiple gpus as training scripting we are going to use one of the `transformers` [example scripts from the repository](https://github.com/huggingface/transformers/blob/master/examples/question-answering/run_qa.py).\n",
    "\n",
    "To get started, we need to set up the environment with a few prerequisite steps, for permissions, configurations, and so on. \n",
    "\n",
    "_**NOTE: You can run this demo in Sagemaker Studio, your local machine or Sagemaker Notebook Instances**_"
   ]
  },
  {
   "cell_type": "markdown",
   "metadata": {},
   "source": [
    "# Development Environment and Permissions "
   ]
  },
  {
   "cell_type": "markdown",
   "metadata": {},
   "source": [
    "## Installation\n",
    "\n",
    "_*Note:* we only install the required libraries from Hugging Face and AWS. You also need PyTorch or Tensorflow, if you haven´t it installed_"
   ]
  },
  {
   "cell_type": "code",
   "execution_count": 1,
   "metadata": {},
   "outputs": [],
   "source": [
    "!pip install \"sagemaker>=2.48.0\"  --upgrade -q"
   ]
  },
  {
   "cell_type": "markdown",
   "metadata": {},
   "source": [
    "## Development environment "
   ]
  },
  {
   "cell_type": "code",
   "execution_count": 2,
   "metadata": {},
   "outputs": [],
   "source": [
    "import sagemaker.huggingface"
   ]
  },
  {
   "cell_type": "markdown",
   "metadata": {},
   "source": [
    "## Permissions"
   ]
  },
  {
   "cell_type": "markdown",
   "metadata": {},
   "source": [
    "_If you are going to use Sagemaker in a local environment. You need access to an IAM Role with the required permissions for Sagemaker. You can find [here](https://docs.aws.amazon.com/sagemaker/latest/dg/sagemaker-roles.html) more about it._"
   ]
  },
  {
   "cell_type": "code",
   "execution_count": 3,
   "metadata": {},
   "outputs": [
    {
     "name": "stdout",
     "output_type": "stream",
     "text": [
      "sagemaker role arn: arn:aws:iam::110564771975:role/service-role/AmazonSageMaker-ExecutionRole-20210806T162946\n",
      "sagemaker bucket: sagemaker-eu-west-2-110564771975\n",
      "sagemaker session region: eu-west-2\n"
     ]
    }
   ],
   "source": [
    "import sagemaker\n",
    "\n",
    "sess = sagemaker.Session()\n",
    "# sagemaker session bucket -> used for uploading data, models and logs\n",
    "# sagemaker will automatically create this bucket if it not exists\n",
    "sagemaker_session_bucket=None\n",
    "if sagemaker_session_bucket is None and sess is not None:\n",
    "    # set to default bucket if a bucket name is not given\n",
    "    sagemaker_session_bucket = sess.default_bucket()\n",
    "\n",
    "role = sagemaker.get_execution_role()\n",
    "sess = sagemaker.Session(default_bucket=sagemaker_session_bucket)\n",
    "\n",
    "print(f\"sagemaker role arn: {role}\")\n",
    "print(f\"sagemaker bucket: {sess.default_bucket()}\")\n",
    "print(f\"sagemaker session region: {sess.boto_region_name}\")"
   ]
  },
  {
   "cell_type": "markdown",
   "metadata": {},
   "source": [
    "# Fine-tuning & starting Sagemaker Training Job\n",
    "\n",
    "In order to create a sagemaker training job we need an `HuggingFace` Estimator. The Estimator handles end-to-end Amazon SageMaker training and deployment tasks. In a Estimator we define, which fine-tuning script should be used as `entry_point`, which `instance_type` should be used, which `hyperparameters` are passed in .....\n",
    "\n",
    "```python\n",
    "hyperparameters = {\n",
    "\t'model_name_or_path':'philschmid/distilroberta-base-ner-conll2003',\n",
    "\t'output_dir':'/opt/ml/model',\n",
    "    'epochs': 1,\n",
    "    'train_batch_size': 32,\n",
    "\t# add your remaining hyperparameters\n",
    "\t# more info here https://github.com/huggingface/transformers/tree/v4.17.0/examples/pytorch/token-classification\n",
    "}\n",
    "\n",
    "huggingface_estimator = HuggingFace(\n",
    "    entry_point='run_ner.py',\n",
    "    source_dir='./examples/pytorch/token-classification',\n",
    "    instance_type='ml.p3.2xlarge',\n",
    "    instance_count=1,\n",
    "    role=role,\n",
    "    git_config=git_config,\n",
    "    transformers_version='4.17.0',\n",
    "    pytorch_version='1.10.2',\n",
    "    py_version='py38',\n",
    "    hyperparameters = hyperparameters\n",
    ")\n",
    "```\n",
    "\n",
    "When we create a SageMaker training job, SageMaker takes care of starting and managing all the required ec2 instances for us with the `huggingface` container, uploads the provided fine-tuning script `train.py` and downloads the data from our `sagemaker_session_bucket` into the container at `/opt/ml/input/data`. Then, it starts the training job by running. \n",
    "\n",
    "```python\n",
    "/opt/conda/bin/python train.py --epochs 1 --model_name philschmid/distilroberta-base-ner-conll2003 --train_batch_size 32\n",
    "```\n",
    "\n",
    "The `hyperparameters` you define in the `HuggingFace` estimator are passed in as named arguments. \n",
    "\n",
    "Sagemaker is providing useful properties about the training environment through various environment variables, including the following:\n",
    "\n",
    "* `SM_MODEL_DIR`: A string that represents the path where the training job writes the model artifacts to. After training, artifacts in this directory are uploaded to S3 for model hosting.\n",
    "\n",
    "* `SM_NUM_GPUS`: An integer representing the number of GPUs available to the host.\n",
    "\n",
    "* `SM_CHANNEL_XXXX:` A string that represents the path to the directory that contains the input data for the specified channel. For example, if you specify two input channels in the HuggingFace estimator’s fit call, named `train` and `test`, the environment variables `SM_CHANNEL_TRAIN` and `SM_CHANNEL_TEST` are set.\n",
    "\n",
    "\n",
    "To run your training job locally you can define `instance_type='local'` or `instance_type='local_gpu'` for gpu usage. _Note: this does not working within SageMaker Studio_\n"
   ]
  },
  {
   "cell_type": "markdown",
   "metadata": {},
   "source": [
    "## Load training data from `flair`, split into `train`/`dev`/`test`, and upload to S3\n",
    "- https://github.com/flairNLP/flair/blob/master/resources/docs/TUTORIAL_6_CORPUS.md\n",
    "- https://github.com/huggingface/transformers/blob/main/tests/fixtures/tests_samples/conll/sample.json\n",
    "- https://github.com/huggingface/transformers/issues/8698\n",
    "- https://huggingface.co/docs/datasets/loading#json-files"
   ]
  },
  {
   "cell_type": "code",
   "execution_count": 4,
   "metadata": {},
   "outputs": [],
   "source": [
    "import flair\n",
    "import inspect\n",
    "import json\n",
    "from os.path import exists as path_exists\n",
    "from pathlib import Path"
   ]
  },
  {
   "cell_type": "markdown",
   "metadata": {},
   "source": [
    "An example of what `train.json` should look like\n",
    "\n",
    "```python\n",
    "{\"id\": \"1\", \"tokens\": [\"APPLICATION\", \"and\", \"Affidavit\", \"for\", \"Search\", ...], \"ner_tags\": [\"O\", \"O\", \"O\", \"O\", \"O\", ...]}\n",
    "\n",
    "...\n",
    "\n",
    "{\"id\": \"n\", \"tokens\": [\"APPLICATION\", \"and\", \"Affidavit\", \"for\", \"Search\", ...], \"ner_tags\": [\"O\", \"O\", \"O\", \"O\", \"O\", ...]}\n",
    "```"
   ]
  },
  {
   "cell_type": "code",
   "execution_count": null,
   "metadata": {},
   "outputs": [],
   "source": [
    "def get_flair_corpus(dataset_name,dataset_arguments:str=\"\"):\n",
    "    ner_task_mapping = {}\n",
    "\n",
    "    for name, obj in inspect.getmembers(flair.datasets.sequence_labeling):\n",
    "        if inspect.isclass(obj):\n",
    "            if name.startswith(\"NER\") or name.startswith(\"CONLL\") or name.startswith(\"WNUT\"):\n",
    "                ner_task_mapping[name] = obj\n",
    "\n",
    "    dataset_args = {}\n",
    "\n",
    "    if dataset_arguments:\n",
    "        dataset_args = json.loads(dataset_arguments)\n",
    "\n",
    "    if dataset_name not in ner_task_mapping:\n",
    "        raise ValueError(f\"Dataset name {dataset_name} is not a valid Flair datasets name!\")\n",
    "\n",
    "    return ner_task_mapping[dataset_name](**dataset_args)"
   ]
  },
  {
   "cell_type": "code",
   "execution_count": 219,
   "metadata": {},
   "outputs": [],
   "source": [
    "def upload_flair_corpus_to_s3(corpus, filepath, key_prefix = 'distributed_conll2003_data'):\n",
    "    if not path_exists('dataset'): !mkdir dataset\n",
    "    path = f'dataset/{filepath}'\n",
    "    \n",
    "    lines = []\n",
    "    for idx, sentence in enumerate(corpus):\n",
    "        tokens = []\n",
    "        ner_tags = []\n",
    "        for token in sentence:\n",
    "            try: tag = token.tag\n",
    "            except: tag = \"O\"\n",
    "            tokens.append(token.text)\n",
    "            ner_tags.append(tag)\n",
    "        lines.append({\"tokens\": (' '.join(tokens)).strip(), \"ner_tags\": (','.join(ner_tags)).strip()})\n",
    "            \n",
    "    # convert to a list of JSON strings\n",
    "    json_lines = [json.dumps(l) for l in lines]\n",
    "\n",
    "    # join lines and save to .json file\n",
    "    json_data = '\\n'.join(json_lines)\n",
    "    with open(path, 'w', encoding='utf-8') as f:\n",
    "        f.write(json_data)\n",
    "        \n",
    "    # save to s3    \n",
    "    s3_path = sess.upload_data(path, key_prefix=key_prefix)\n",
    "    print('done! file also saved locally to \"{}\"'.format(filepath))\n",
    "    \n",
    "    return s3_path"
   ]
  },
  {
   "cell_type": "code",
   "execution_count": 28,
   "metadata": {},
   "outputs": [
    {
     "name": "stdout",
     "output_type": "stream",
     "text": [
      "2022-05-21 00:01:15,488 Reading data from /home/ec2-user/.flair/datasets/ner_english_person\n",
      "2022-05-21 00:01:15,489 Train: /home/ec2-user/.flair/datasets/ner_english_person/bigFile.conll\n",
      "2022-05-21 00:01:15,489 Dev: None\n",
      "2022-05-21 00:01:15,490 Test: None\n",
      "Corpus: 28362 train + 3151 dev + 3501 test sentences\n"
     ]
    }
   ],
   "source": [
    "corpus = get_flair_corpus(dataset_name='NER_ENGLISH_PERSON')\n",
    "print(corpus)"
   ]
  },
  {
   "cell_type": "code",
   "execution_count": 29,
   "metadata": {},
   "outputs": [
    {
     "name": "stdout",
     "output_type": "stream",
     "text": [
      "2022-05-21 00:01:21,657 Computing label dictionary. Progress:\n"
     ]
    },
    {
     "name": "stderr",
     "output_type": "stream",
     "text": [
      "28362it [00:00, 71885.80it/s]"
     ]
    },
    {
     "name": "stdout",
     "output_type": "stream",
     "text": [
      "2022-05-21 00:01:22,054 Dictionary created for label 'ner' with 4 values: M (seen 27887 times), F (seen 4543 times), A (seen 634 times)\n",
      "Dictionary with 4 tags: <unk>, M, F, A\n"
     ]
    },
    {
     "name": "stderr",
     "output_type": "stream",
     "text": [
      "\n"
     ]
    }
   ],
   "source": [
    "tag_dictionary = corpus.make_label_dictionary(\"ner\")\n",
    "print(tag_dictionary)"
   ]
  },
  {
   "cell_type": "code",
   "execution_count": 220,
   "metadata": {},
   "outputs": [
    {
     "name": "stdout",
     "output_type": "stream",
     "text": [
      "done! file also saved locally to \"train.csv\"\n",
      "done! file also saved locally to \"test.csv\"\n",
      "done! file also saved locally to \"valid.csv\"\n"
     ]
    }
   ],
   "source": [
    "train_input_path = upload_flair_corpus_to_s3(corpus.train, 'train.json')\n",
    "test_input_path = upload_flair_corpus_to_s3(corpus.test, 'test.json')\n",
    "valid_input_path = upload_flair_corpus_to_s3(corpus.dev, 'valid.json')"
   ]
  },
  {
   "cell_type": "markdown",
   "metadata": {},
   "source": [
    "## Creating an Estimator and start a training job\n",
    "\n",
    "In this example we are going to use the capability to download/use a fine-tuning script from a `git`- repository. We are using the `run_ner.py` from the `transformers` example scripts. You can find the code [here](https://github.com/huggingface/transformers/tree/main/examples/pytorch/token-classification)."
   ]
  },
  {
   "cell_type": "markdown",
   "metadata": {},
   "source": [
    "See more about loading any type of standard or custom dataset (from files, python dict, pandas DataFrame, etc) at\n",
    "https://huggingface.co/docs/datasets/loading_datasets.html."
   ]
  },
  {
   "cell_type": "code",
   "execution_count": 12,
   "metadata": {},
   "outputs": [],
   "source": [
    "from sagemaker.huggingface import HuggingFace"
   ]
  },
  {
   "cell_type": "code",
   "execution_count": null,
   "metadata": {},
   "outputs": [],
   "source": [
    "data = {\n",
    "    'train': train_input_path,\n",
    "    'test': test_input_path,\n",
    "    'valid': valid_input_path,\n",
    "}"
   ]
  },
  {
   "cell_type": "code",
   "execution_count": 13,
   "metadata": {},
   "outputs": [],
   "source": [
    "# hyperparameters, which are passed into the training job\n",
    "hyperparameters={\n",
    "    'model_name_or_path': 'philschmid/distilroberta-base-ner-conll2003',\n",
    "    'train_file': \"/opt/ml/input/data/train/train.json\",\n",
    "    'test_file': \"/opt/ml/input/data/test/test.json\",\n",
    "    'validation_file': \"/opt/ml/input/data/valid/valid.json\",\n",
    "    'learning_rate': 5e-05,\n",
    "    'per_device_train_batch_size': 32,\n",
    "    'per_device_eval_batch_size': 16,\n",
    "    'seed': 42,\n",
    "    'lr_scheduler_type': 'linear',\n",
    "    'num_train_epochs': 50,\n",
    "    'fp16': True,\n",
    "    'output_dir': '/opt/ml/model',\n",
    "    'do_train': True,\n",
    "    'do_eval': True,\n",
    "    'max_seq_length': 128,\n",
    "}\n",
    "\n",
    "# configuration for running training on smdistributed Data Parallel\n",
    "# distribution = {'smdistributed':{'dataparallel':{ 'enabled': True }}}\n",
    "\n",
    "# git configuration to download our fine-tuning script\n",
    "git_config = {'repo': 'https://github.com/huggingface/transformers.git','branch': 'v4.17.0'}\n",
    "\n",
    "# instance configurations\n",
    "instance_type='ml.p3.2xlarge'\n",
    "instance_count=1\n",
    "volume_size=100\n",
    "\n",
    "# metric definition to extract the results\n",
    "metric_definitions=[\n",
    "    {\"Name\": \"train_runtime\", \"Regex\": \"train_runtime.*=\\D*(.*?)$\"},\n",
    "    {'Name': 'train_samples_per_second', 'Regex': \"train_samples_per_second.*=\\D*(.*?)$\"},\n",
    "    {'Name': 'epoch', 'Regex': \"epoch.*=\\D*(.*?)$\"},\n",
    "    {'Name': 'f1', 'Regex': \"f1.*=\\D*(.*?)$\"},\n",
    "    {'Name': 'precision', 'Regex': \"precision.*=\\D*(.*?)$\"},\n",
    "    {'Name': 'recall', 'Regex': \"recall.*=\\D*(.*?)$\"},\n",
    "    {'Name': 'exact_match', 'Regex': \"exact_match.*=\\D*(.*?)$\"}]"
   ]
  },
  {
   "cell_type": "code",
   "execution_count": 14,
   "metadata": {},
   "outputs": [],
   "source": [
    "# estimator\n",
    "huggingface_estimator = HuggingFace(entry_point='run_ner.py',\n",
    "                                    source_dir='./examples/pytorch/token-classification',\n",
    "                                    git_config=git_config,\n",
    "                                    metric_definitions=metric_definitions,\n",
    "                                    instance_type=instance_type,\n",
    "                                    instance_count=instance_count,\n",
    "                                    volume_size=volume_size,\n",
    "                                    role=role,\n",
    "                                    transformers_version='4.17.0',\n",
    "                                    pytorch_version='1.10.2',\n",
    "                                    py_version='py38',\n",
    "#                                     distribution= distribution,\n",
    "                                    hyperparameters = hyperparameters)"
   ]
  },
  {
   "cell_type": "code",
   "execution_count": 1,
   "metadata": {},
   "outputs": [],
   "source": [
    "# starting the train job\n",
    "huggingface_estimator.fit(data, wait=False)"
   ]
  },
  {
   "cell_type": "markdown",
   "metadata": {},
   "source": [
    "## Deploying the endpoint\n",
    "\n",
    "To deploy our endpoint, we call `deploy()` on our HuggingFace estimator object, passing in our desired number of instances and instance type."
   ]
  },
  {
   "cell_type": "code",
   "execution_count": null,
   "metadata": {},
   "outputs": [],
   "source": [
    "predictor = huggingface_estimator.deploy(\n",
    "\tinitial_instance_count=1, # number of instances\n",
    "\tinstance_type='ml.m5.xlarge' # ec2 instance type\n",
    ")"
   ]
  },
  {
   "cell_type": "markdown",
   "metadata": {},
   "source": [
    "Then, we use the returned predictor object to call the endpoint."
   ]
  },
  {
   "cell_type": "code",
   "execution_count": null,
   "metadata": {},
   "outputs": [],
   "source": [
    "predictor.predict({\n",
    "\t'inputs': \"My name is Sarah Jessica Parker but you can call me Jessica\"\n",
    "})"
   ]
  },
  {
   "cell_type": "markdown",
   "metadata": {},
   "source": [
    "Finally, we delete the endpoint again."
   ]
  },
  {
   "cell_type": "code",
   "execution_count": null,
   "metadata": {},
   "outputs": [],
   "source": [
    "predictor.delete_endpoint()"
   ]
  },
  {
   "cell_type": "markdown",
   "metadata": {},
   "source": [
    "## Estimator Parameters"
   ]
  },
  {
   "cell_type": "code",
   "execution_count": null,
   "metadata": {
    "scrolled": true
   },
   "outputs": [],
   "source": [
    "# container image used for training job\n",
    "print(f\"container image used for training job: \\n{huggingface_estimator.image_uri}\\n\")\n",
    "\n",
    "# s3 uri where the trained model is located\n",
    "print(f\"s3 uri where the trained model is located: \\n{huggingface_estimator.model_data}\\n\")\n",
    "\n",
    "# latest training job name for this estimator\n",
    "print(f\"latest training job name for this estimator: \\n{huggingface_estimator.latest_training_job.name}\\n\")"
   ]
  },
  {
   "cell_type": "code",
   "execution_count": null,
   "metadata": {},
   "outputs": [],
   "source": [
    "# access the logs of the training job\n",
    "huggingface_estimator.sagemaker_session.logs_for_job(huggingface_estimator.latest_training_job.name)"
   ]
  },
  {
   "cell_type": "markdown",
   "metadata": {},
   "source": [
    "## Attach an old training job to an estimator \n",
    "\n",
    "In Sagemaker you can attach an old training job to an estimator to continue training, get results etc.."
   ]
  },
  {
   "cell_type": "code",
   "execution_count": null,
   "metadata": {},
   "outputs": [],
   "source": [
    "from sagemaker.estimator import Estimator\n",
    "\n",
    "# job which is going to be attached to the estimator\n",
    "# old_training_job_name=''"
   ]
  },
  {
   "cell_type": "code",
   "execution_count": null,
   "metadata": {},
   "outputs": [],
   "source": [
    "# attach old training job\n",
    "# huggingface_estimator_loaded = Estimator.attach(old_training_job_name)\n",
    "\n",
    "# get model output s3 from training job\n",
    "# huggingface_estimator_loaded.model_data"
   ]
  },
  {
   "cell_type": "markdown",
   "metadata": {},
   "source": [
    "## References"
   ]
  },
  {
   "cell_type": "markdown",
   "metadata": {},
   "source": [
    "- [Named-Entity-Recognition-on-HuggingFace](https://wandb.ai/biased-ai/Named-Entity%20Recognition%20on%20HuggingFace/reports/Named-Entity-Recognition-on-HuggingFace--Vmlldzo3NTk4NjY)\n",
    "- [`run_ner.py` script in HuggingFace](https://github.com/huggingface/transformers/blob/main/examples/pytorch/token-classification/run_ner.py)\n",
    "- [Named Entity Recognition with Transformers](https://chriskhanhtran.github.io/posts/named-entity-recognition-with-transformers/)\n",
    "- [Token classification in HuggingFace](https://github.com/huggingface/transformers/tree/v4.17.0/examples/pytorch/token-classification)\n",
    "- [Training Custom NER Model Using Flair](https://medium.com/thecyphy/training-custom-ner-model-using-flair-df1f9ea9c762)"
   ]
  }
 ],
 "metadata": {
  "instance_type": "ml.t3.medium",
  "interpreter": {
   "hash": "c281c456f1b8161c8906f4af2c08ed2c40c50136979eaae69688b01f70e9f4a9"
  },
  "kernelspec": {
   "display_name": "conda_machinelearnear-lightninglite-sagemaker-flair",
   "language": "python",
   "name": "conda_machinelearnear-lightninglite-sagemaker-flair"
  },
  "language_info": {
   "codemirror_mode": {
    "name": "ipython",
    "version": 3
   },
   "file_extension": ".py",
   "mimetype": "text/x-python",
   "name": "python",
   "nbconvert_exporter": "python",
   "pygments_lexer": "ipython3",
   "version": "3.9.12"
  }
 },
 "nbformat": 4,
 "nbformat_minor": 4
}
