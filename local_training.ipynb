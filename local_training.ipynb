{
 "cells": [
  {
   "cell_type": "markdown",
   "id": "05739f9e-e572-4798-af27-86672c534001",
   "metadata": {},
   "source": [
    "# Distributed Training with LightningLite, SageMaker, and Flair"
   ]
  },
  {
   "cell_type": "markdown",
   "id": "169f0ac8-4e21-420d-b924-c7caad983c0a",
   "metadata": {},
   "source": [
    "## Getting started\n",
    "- [Getting Started with Tensor Parallelism using the SageMaker Model Parallelism Library\n",
    "](https://github.com/aws/amazon-sagemaker-examples/blob/main/training/distributed_training/pytorch/model_parallel/gpt-j/11_train_gptj_smp_tensor_parallel_notebook.ipynb)\n",
    "- [LightningLite Integration with Flair](https://github.com/flairNLP/flair/pull/2700)\n",
    "- [LIGHTNINGLITE - STEPPING STONE TO LIGHTNING](https://pytorch-lightning.readthedocs.io/en/stable/starter/lightning_lite.html)"
   ]
  },
  {
   "cell_type": "markdown",
   "id": "dc37201b-86a1-4250-aeba-1b0c1be1c062",
   "metadata": {},
   "source": [
    "## Launch training locally\n",
    "- [PYTORCH_LIGHTNING.LITE.LIGHTNINGLITE](https://pytorch-lightning.readthedocs.io/en/stable/api/pytorch_lightning.lite.LightningLite.html#pytorch_lightning.lite.LightningLite)"
   ]
  },
  {
   "cell_type": "code",
   "execution_count": null,
   "id": "91fdf260-1c5e-43c3-8fcf-4542d0ec8d42",
   "metadata": {},
   "outputs": [],
   "source": [
    "!python code/run_ner.py \\\n",
    "    --dataset_name NER_ENGLISH_PERSON \\\n",
    "    --model_name_or_path xlm-roberta-base \\\n",
    "    --batch_size 32 \\\n",
    "    --learning_rate 5e-05 \\\n",
    "    --accelerator \"gpu\"\n",
    "    --strategy \"ddp\"\n",
    "    --devices 4\n",
    "    --num_nodes 1\n",
    "    --precision 16\n",
    "    --num_epochs 2 \\\n",
    "    --context_size 64 \\\n",
    "    --output_dir ner-english-person \\"
   ]
  },
  {
   "cell_type": "markdown",
   "id": "c10afe54-60dd-42b0-8eec-3d78fd911498",
   "metadata": {},
   "source": [
    "## Launch training remotely using SageMaker Training Jobs"
   ]
  },
  {
   "cell_type": "code",
   "execution_count": null,
   "id": "52738851-c92c-4145-97a8-7b3d068788dc",
   "metadata": {},
   "outputs": [],
   "source": []
  }
 ],
 "metadata": {
  "kernelspec": {
   "display_name": "machinelearnear-lightninglite-sagemaker-flair:Python",
   "language": "python",
   "name": "conda-env-machinelearnear-lightninglite-sagemaker-flair-py"
  },
  "language_info": {
   "codemirror_mode": {
    "name": "ipython",
    "version": 3
   },
   "file_extension": ".py",
   "mimetype": "text/x-python",
   "name": "python",
   "nbconvert_exporter": "python",
   "pygments_lexer": "ipython3",
   "version": "3.9.12"
  }
 },
 "nbformat": 4,
 "nbformat_minor": 5
}
